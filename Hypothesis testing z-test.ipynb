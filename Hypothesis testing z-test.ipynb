{
 "cells": [
  {
   "cell_type": "code",
   "execution_count": 3,
   "id": "37130c88-8458-4c21-a373-3ae7538eaa99",
   "metadata": {},
   "outputs": [],
   "source": [
    "import numpy as np\n",
    "import pandas as pd\n",
    "from sklearn.datasets import load_iris\n",
    "import scipy.stats as stats"
   ]
  },
  {
   "cell_type": "code",
   "execution_count": 9,
   "id": "b2468a34-e7da-4a05-b736-bf10b2da6402",
   "metadata": {},
   "outputs": [
    {
     "data": {
      "text/html": [
       "<div>\n",
       "<style scoped>\n",
       "    .dataframe tbody tr th:only-of-type {\n",
       "        vertical-align: middle;\n",
       "    }\n",
       "\n",
       "    .dataframe tbody tr th {\n",
       "        vertical-align: top;\n",
       "    }\n",
       "\n",
       "    .dataframe thead th {\n",
       "        text-align: right;\n",
       "    }\n",
       "</style>\n",
       "<table border=\"1\" class=\"dataframe\">\n",
       "  <thead>\n",
       "    <tr style=\"text-align: right;\">\n",
       "      <th></th>\n",
       "      <th>sepal length (cm)</th>\n",
       "      <th>sepal width (cm)</th>\n",
       "      <th>petal length (cm)</th>\n",
       "      <th>petal width (cm)</th>\n",
       "    </tr>\n",
       "  </thead>\n",
       "  <tbody>\n",
       "    <tr>\n",
       "      <th>0</th>\n",
       "      <td>5.1</td>\n",
       "      <td>3.5</td>\n",
       "      <td>1.4</td>\n",
       "      <td>0.2</td>\n",
       "    </tr>\n",
       "    <tr>\n",
       "      <th>1</th>\n",
       "      <td>4.9</td>\n",
       "      <td>3.0</td>\n",
       "      <td>1.4</td>\n",
       "      <td>0.2</td>\n",
       "    </tr>\n",
       "    <tr>\n",
       "      <th>2</th>\n",
       "      <td>4.7</td>\n",
       "      <td>3.2</td>\n",
       "      <td>1.3</td>\n",
       "      <td>0.2</td>\n",
       "    </tr>\n",
       "    <tr>\n",
       "      <th>3</th>\n",
       "      <td>4.6</td>\n",
       "      <td>3.1</td>\n",
       "      <td>1.5</td>\n",
       "      <td>0.2</td>\n",
       "    </tr>\n",
       "    <tr>\n",
       "      <th>4</th>\n",
       "      <td>5.0</td>\n",
       "      <td>3.6</td>\n",
       "      <td>1.4</td>\n",
       "      <td>0.2</td>\n",
       "    </tr>\n",
       "    <tr>\n",
       "      <th>...</th>\n",
       "      <td>...</td>\n",
       "      <td>...</td>\n",
       "      <td>...</td>\n",
       "      <td>...</td>\n",
       "    </tr>\n",
       "    <tr>\n",
       "      <th>145</th>\n",
       "      <td>6.7</td>\n",
       "      <td>3.0</td>\n",
       "      <td>5.2</td>\n",
       "      <td>2.3</td>\n",
       "    </tr>\n",
       "    <tr>\n",
       "      <th>146</th>\n",
       "      <td>6.3</td>\n",
       "      <td>2.5</td>\n",
       "      <td>5.0</td>\n",
       "      <td>1.9</td>\n",
       "    </tr>\n",
       "    <tr>\n",
       "      <th>147</th>\n",
       "      <td>6.5</td>\n",
       "      <td>3.0</td>\n",
       "      <td>5.2</td>\n",
       "      <td>2.0</td>\n",
       "    </tr>\n",
       "    <tr>\n",
       "      <th>148</th>\n",
       "      <td>6.2</td>\n",
       "      <td>3.4</td>\n",
       "      <td>5.4</td>\n",
       "      <td>2.3</td>\n",
       "    </tr>\n",
       "    <tr>\n",
       "      <th>149</th>\n",
       "      <td>5.9</td>\n",
       "      <td>3.0</td>\n",
       "      <td>5.1</td>\n",
       "      <td>1.8</td>\n",
       "    </tr>\n",
       "  </tbody>\n",
       "</table>\n",
       "<p>150 rows × 4 columns</p>\n",
       "</div>"
      ],
      "text/plain": [
       "     sepal length (cm)  sepal width (cm)  petal length (cm)  petal width (cm)\n",
       "0                  5.1               3.5                1.4               0.2\n",
       "1                  4.9               3.0                1.4               0.2\n",
       "2                  4.7               3.2                1.3               0.2\n",
       "3                  4.6               3.1                1.5               0.2\n",
       "4                  5.0               3.6                1.4               0.2\n",
       "..                 ...               ...                ...               ...\n",
       "145                6.7               3.0                5.2               2.3\n",
       "146                6.3               2.5                5.0               1.9\n",
       "147                6.5               3.0                5.2               2.0\n",
       "148                6.2               3.4                5.4               2.3\n",
       "149                5.9               3.0                5.1               1.8\n",
       "\n",
       "[150 rows x 4 columns]"
      ]
     },
     "execution_count": 9,
     "metadata": {},
     "output_type": "execute_result"
    }
   ],
   "source": [
    "iris = load_iris()\n",
    "df = pd.DataFrame(data=iris.data, columns=iris.feature_names)\n",
    "df\n"
   ]
  },
  {
   "cell_type": "code",
   "execution_count": 11,
   "id": "ab6a7107-704b-4d88-a265-c706e5a36f60",
   "metadata": {},
   "outputs": [
    {
     "name": "stdout",
     "output_type": "stream",
     "text": [
      "   sepal length (cm)  sepal width (cm)  petal length (cm)  petal width (cm)\n",
      "0                5.1               3.5                1.4               0.2\n",
      "1                4.9               3.0                1.4               0.2\n",
      "2                4.7               3.2                1.3               0.2\n",
      "3                4.6               3.1                1.5               0.2\n",
      "4                5.0               3.6                1.4               0.2\n"
     ]
    }
   ],
   "source": [
    "# Display the first few rows of the dataset\n",
    "print(df.head())\n"
   ]
  },
  {
   "cell_type": "code",
   "execution_count": 13,
   "id": "63b2f5d6-3069-447d-99a1-6d55d8e807cf",
   "metadata": {},
   "outputs": [],
   "source": [
    "# Define the variable of interest (sepal length)\n",
    "sepal_length = df['sepal length (cm)']\n"
   ]
  },
  {
   "cell_type": "raw",
   "id": "7ad5a3c8-9a52-4d3a-8d88-bda9b359c38e",
   "metadata": {},
   "source": [
    "Formulate the hypotheses\n",
    "Null Hypothesis (H0): The average sepal length is equal to the known population mean (e.g., 5.0 cm)\n",
    "Alternative Hypothesis (H1): The average sepal length is not equal to 5.0 cm\n"
   ]
  },
  {
   "cell_type": "code",
   "execution_count": 15,
   "id": "6ffbc6dd-ce97-45b1-b384-d2c9d49ddede",
   "metadata": {},
   "outputs": [],
   "source": [
    "# Known population mean\n",
    "mu_0 = 5.0\n",
    "\n",
    "# Sample mean\n",
    "sample_mean = np.mean(sepal_length)\n",
    "\n",
    "# Sample standard deviation\n",
    "sample_std = np.std(sepal_length, ddof=1)\n",
    "\n",
    "# Sample size\n",
    "n = len(sepal_length)\n"
   ]
  },
  {
   "cell_type": "raw",
   "id": "c7ae8469-8f56-4470-bd1f-960ed5f33c2e",
   "metadata": {},
   "source": [
    "Known Population Mean: We set the known population mean (𝜇0) to 5.0 cm.\n",
    "\n",
    "Sample Mean: We calculate the sample mean using np.mean(sepal_length), \n",
    "             which gives us the average sepal length in our sample.\n",
    "\n",
    "Sample Standard Deviation: We calculate the sample standard deviation using\n",
    "                           np.std(sepal_length, ddof=1). The ddof=1 argument specifies \n",
    "                           that we want to use the sample standard deviation (Bessel's correction).\n",
    "\n",
    "Sample Size: We determine the sample size by using len(sepal_length), which counts the \n",
    "                          number of entries in the selected sepal length data."
   ]
  },
  {
   "cell_type": "code",
   "execution_count": 21,
   "id": "dbd0fb7c-66b9-4b15-98a4-bbf3c3b3b6ca",
   "metadata": {},
   "outputs": [],
   "source": [
    "# Calculate Z-statistic\n",
    "z_statistic = (sample_mean - mu_0) / (sample_std / np.sqrt(n))\n"
   ]
  },
  {
   "cell_type": "code",
   "execution_count": 27,
   "id": "1b72a9cb-6a02-4042-90a3-df64751cbd0d",
   "metadata": {},
   "outputs": [],
   "source": [
    "# Calculate the p-value (two-tailed test)\n",
    "p_value = 2 * (1 - stats.norm.cdf(abs(z_statistic)))\n"
   ]
  },
  {
   "cell_type": "code",
   "execution_count": 29,
   "id": "737fa2a7-5120-4674-a316-e544a79117a3",
   "metadata": {},
   "outputs": [
    {
     "name": "stdout",
     "output_type": "stream",
     "text": [
      "Reject the null hypothesis.\n"
     ]
    }
   ],
   "source": [
    "# Significance level\n",
    "alpha = 0.05\n",
    "\n",
    "# Decision\n",
    "if p_value < alpha:\n",
    "    print(\"Reject the null hypothesis.\")\n",
    "else:\n",
    "    print(\"Fail to reject the null hypothesis.\")\n"
   ]
  },
  {
   "cell_type": "code",
   "execution_count": 31,
   "id": "1d6c3dcb-9c2e-48d2-a69a-bb373095e17f",
   "metadata": {},
   "outputs": [
    {
     "name": "stdout",
     "output_type": "stream",
     "text": [
      "Sample Mean: 5.84 cm\n",
      "Sample Standard Deviation: 0.83 cm\n",
      "Z-statistic: 12.47\n",
      "P-value: 0.0000\n"
     ]
    }
   ],
   "source": [
    "# Output results\n",
    "print(f\"Sample Mean: {sample_mean:.2f} cm\")\n",
    "print(f\"Sample Standard Deviation: {sample_std:.2f} cm\")\n",
    "print(f\"Z-statistic: {z_statistic:.2f}\")\n",
    "print(f\"P-value: {p_value:.4f}\")\n"
   ]
  },
  {
   "cell_type": "code",
   "execution_count": null,
   "id": "0ad2640a-718f-4e97-9152-67efa3e191ba",
   "metadata": {},
   "outputs": [],
   "source": []
  },
  {
   "cell_type": "code",
   "execution_count": null,
   "id": "132238f1-32a6-4236-a4b0-efd6fc50542b",
   "metadata": {},
   "outputs": [],
   "source": []
  },
  {
   "cell_type": "code",
   "execution_count": null,
   "id": "089c59af-d509-4e39-9587-d8d28fd312a7",
   "metadata": {},
   "outputs": [],
   "source": []
  },
  {
   "cell_type": "code",
   "execution_count": null,
   "id": "a46749b3-e7dc-488c-9a52-d86446dfd403",
   "metadata": {},
   "outputs": [],
   "source": []
  }
 ],
 "metadata": {
  "kernelspec": {
   "display_name": "Python 3 (ipykernel)",
   "language": "python",
   "name": "python3"
  },
  "language_info": {
   "codemirror_mode": {
    "name": "ipython",
    "version": 3
   },
   "file_extension": ".py",
   "mimetype": "text/x-python",
   "name": "python",
   "nbconvert_exporter": "python",
   "pygments_lexer": "ipython3",
   "version": "3.12.4"
  }
 },
 "nbformat": 4,
 "nbformat_minor": 5
}
